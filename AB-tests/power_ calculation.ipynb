{
 "cells": [
  {
   "cell_type": "markdown",
   "id": "72aca84b-5278-4a3f-b9a3-6df6e45bfb4c",
   "metadata": {
    "tags": []
   },
   "source": [
    "### Задача"
   ]
  },
  {
   "cell_type": "markdown",
   "id": "10d8a1e4-9060-4ffb-ae7f-e4683b017b00",
   "metadata": {},
   "source": [
    "К нам пришли наши коллеги из ML-отдела и рассказали, что планируют выкатывать новый алгоритм, рекомендующий нашим пользователям интересные посты. После обсуждений того, как он это делает, вы пришли к следующему пониманию:\n",
    "- Алгоритм добавляет пользователям 1-2 просмотра\n",
    "- Вероятность того, что он сработает, составляет 90%\n",
    "- Если у пользователя меньше 50 просмотров, то алгоритм не сработает"
   ]
  },
  {
   "cell_type": "markdown",
   "id": "5baa6c8c-de40-443e-ab2b-01afe0c7a904",
   "metadata": {},
   "source": [
    "Вы предполагаете, что увеличение числа просмотров приведёт и к увеличению лайков на пользователя. Встаёт вопрос: сможем ли мы обнаружить различия в среднем количестве лайков на пользователя? Чтобы ответить на этот вопрос, давайте проведём симуляцию Монте-Карло!"
   ]
  },
  {
   "cell_type": "markdown",
   "id": "f28ed2ee-9205-4063-a5f4-c20008650bd5",
   "metadata": {},
   "source": [
    "  Что мы будем делать:\n",
    "\n",
    "- Распределения, из которых мы будем симулировать просмотры и пользовательские CTR, мы построим на основе периода АА-теста (даты смотрите в прошлом уроке). Выгрузите данные запросами, которые использовались в лекции, но уберите всё, связанное с exp_group. Данные нам понадобятся целиком, а на агрегацию эта переменная всё равно не повлияет.\n",
    "- На эксперимент нам выделили неделю. Допустим, что за эту неделю в наш сервис зайдёт столько же пользователей, сколько зашло в период АА-теста. Мы планируем разбивать пользователей на две группы в соотношении 50/50. Посчитайте, сколько пользователей в таком случае придётся на одну группу.\n",
    "- Эффект алгоритма на просмотры мы сымитируем следующим образом: group_B_views + ((1 + np.binomial(n=1, p=0.5, size=размер_выборки)) * np.binomial(n=1, p=0.9, size=размер_выборки) * (group_B_views >= 50)). Внимательно изучите эту строчку кода и подумайте, как она соотносится с описанием эффекта выше.\n",
    "- Количество симуляций задайте не меньше 20000. Если хотите ещё больше уверенности в своих результатах — можете увеличить их число, но без фанатизма. \n",
    "- Лайки мы будем сравнивать t-тестом с поправкой Уэлча на неравные дисперсии (equal_var=False). Уровень значимости по классике поставим 0.05."
   ]
  },
  {
   "cell_type": "markdown",
   "id": "e1bd2fe3-493b-41da-ac78-836cf27d1dd1",
   "metadata": {},
   "source": [
    "В ответе укажите получившееся значение мощности в процентах до первого знака после точки. Например, если у вас получится мощность, равная 0.919, то в ответе укажите 91.9."
   ]
  },
  {
   "cell_type": "code",
   "execution_count": 1,
   "id": "16838c5f-7fb0-4116-953b-763d8e439cb1",
   "metadata": {},
   "outputs": [],
   "source": [
    "# Выгружаем данные\n",
    "\n",
    "import pandahouse as pandahouse\n",
    "import seaborn as sns\n",
    "from scipy import stats\n",
    "import matplotlib.pyplot as plt\n",
    "import numpy as np\n",
    "from tqdm import tqdm\n",
    "\n",
    "connection = {\n",
    "    'host': 'https://clickhouse.lab.karpov.courses/',\n",
    "    'password': 'dpo_python_2020',\n",
    "    'user': 'student',\n",
    "    'database': 'simulator_20240620'\n",
    "}\n",
    "\n",
    "q = \"\"\"\n",
    "select views, count() as users\n",
    "from (select user_id,\n",
    "            sum(action = 'view') as views\n",
    "from simulator_20240620.feed_actions \n",
    "where toDate(time) >= '2024-06-21' and toDate(time) <= '2024-06-27'\n",
    "group by user_id\n",
    ")\n",
    "group by views\n",
    "order by views\n",
    "\"\"\" \n",
    "\n",
    "dist_view = pandahouse.read_clickhouse(q, connection=connection)\n",
    "dist_view['p'] = dist_view['users']/dist_view['users'].sum()\n",
    "\n",
    "qq = \"\"\"\n",
    "select \n",
    "   floor(ctr, 2) as ctr, count() as users\n",
    "from ( select user_id,\n",
    "            sum(action = 'like')/sum(action = 'view') as ctr\n",
    "from simulator_20240620.feed_actions \n",
    "where toDate(time) >= '2024-06-21' and toDate(time) <= '2024-06-27'\n",
    "group by user_id\n",
    ")\n",
    "group by ctr\n",
    "\"\"\"\n",
    "\n",
    "dist_ctr = pandahouse.read_clickhouse(qq, connection=connection)\n",
    "dist_ctr['p'] = dist_ctr['users']/dist_ctr['users'].sum()"
   ]
  },
  {
   "cell_type": "code",
   "execution_count": 2,
   "id": "d665a102-c6f2-4262-a1d4-cd12f79e2ca2",
   "metadata": {},
   "outputs": [
    {
     "data": {
      "text/html": [
       "<div>\n",
       "<style scoped>\n",
       "    .dataframe tbody tr th:only-of-type {\n",
       "        vertical-align: middle;\n",
       "    }\n",
       "\n",
       "    .dataframe tbody tr th {\n",
       "        vertical-align: top;\n",
       "    }\n",
       "\n",
       "    .dataframe thead th {\n",
       "        text-align: right;\n",
       "    }\n",
       "</style>\n",
       "<table border=\"1\" class=\"dataframe\">\n",
       "  <thead>\n",
       "    <tr style=\"text-align: right;\">\n",
       "      <th></th>\n",
       "      <th>views</th>\n",
       "      <th>users</th>\n",
       "      <th>p</th>\n",
       "    </tr>\n",
       "  </thead>\n",
       "  <tbody>\n",
       "    <tr>\n",
       "      <th>0</th>\n",
       "      <td>1</td>\n",
       "      <td>23</td>\n",
       "      <td>0.000334</td>\n",
       "    </tr>\n",
       "    <tr>\n",
       "      <th>1</th>\n",
       "      <td>2</td>\n",
       "      <td>14</td>\n",
       "      <td>0.000203</td>\n",
       "    </tr>\n",
       "    <tr>\n",
       "      <th>2</th>\n",
       "      <td>3</td>\n",
       "      <td>6</td>\n",
       "      <td>0.000087</td>\n",
       "    </tr>\n",
       "    <tr>\n",
       "      <th>3</th>\n",
       "      <td>4</td>\n",
       "      <td>7</td>\n",
       "      <td>0.000102</td>\n",
       "    </tr>\n",
       "    <tr>\n",
       "      <th>4</th>\n",
       "      <td>5</td>\n",
       "      <td>21</td>\n",
       "      <td>0.000305</td>\n",
       "    </tr>\n",
       "  </tbody>\n",
       "</table>\n",
       "</div>"
      ],
      "text/plain": [
       "   views  users         p\n",
       "0      1     23  0.000334\n",
       "1      2     14  0.000203\n",
       "2      3      6  0.000087\n",
       "3      4      7  0.000102\n",
       "4      5     21  0.000305"
      ]
     },
     "execution_count": 2,
     "metadata": {},
     "output_type": "execute_result"
    }
   ],
   "source": [
    "df = \"\"\"\n",
    "select  uniqExact(user_id)\n",
    "FROM simulator_20240620.feed_actions \n",
    "WHERE toDate(time) >= '2024-06-21' and toDate(time) <= '2024-06-27'\n",
    "\"\"\"\n",
    "\n",
    "count_users = pandahouse.read_clickhouse(df, connection=connection)\n",
    "\n",
    "q = \"\"\"\n",
    "select views, count() as users\n",
    "from (select user_id,\n",
    "            sum(action = 'view') as views\n",
    "from simulator_20240620.feed_actions \n",
    "where toDate(time) >= '2024-06-21' and toDate(time) <= '2024-06-27'\n",
    "group by user_id\n",
    ")\n",
    "group by views\n",
    "order by views\n",
    "\"\"\" \n",
    "\n",
    "dist_view = pandahouse.read_clickhouse(q, connection=connection)\n",
    "dist_view['p'] = dist_view['users']/dist_view['users'].sum()\n",
    "dist_view.head()"
   ]
  },
  {
   "cell_type": "code",
   "execution_count": 3,
   "id": "9af15ff5-6df7-4c9f-bf93-0313dac33859",
   "metadata": {},
   "outputs": [
    {
     "data": {
      "text/html": [
       "<div>\n",
       "<style scoped>\n",
       "    .dataframe tbody tr th:only-of-type {\n",
       "        vertical-align: middle;\n",
       "    }\n",
       "\n",
       "    .dataframe tbody tr th {\n",
       "        vertical-align: top;\n",
       "    }\n",
       "\n",
       "    .dataframe thead th {\n",
       "        text-align: right;\n",
       "    }\n",
       "</style>\n",
       "<table border=\"1\" class=\"dataframe\">\n",
       "  <thead>\n",
       "    <tr style=\"text-align: right;\">\n",
       "      <th></th>\n",
       "      <th>uniqExact(user_id)</th>\n",
       "    </tr>\n",
       "  </thead>\n",
       "  <tbody>\n",
       "    <tr>\n",
       "      <th>0</th>\n",
       "      <td>68926</td>\n",
       "    </tr>\n",
       "  </tbody>\n",
       "</table>\n",
       "</div>"
      ],
      "text/plain": [
       "   uniqExact(user_id)\n",
       "0               68926"
      ]
     },
     "execution_count": 3,
     "metadata": {},
     "output_type": "execute_result"
    }
   ],
   "source": [
    "#сколько пользователей было в АА-тесте\n",
    "df = \"\"\"\n",
    "select uniqExact(user_id)\n",
    "from simulator_20240620.feed_actions\n",
    "where toDate(time) >= '2024-06-21' and toDate(time) <= '2024-06-27'\n",
    "\n",
    "\"\"\"\n",
    "\n",
    "pandahouse.read_clickhouse(df, connection=connection)"
   ]
  },
  {
   "cell_type": "code",
   "execution_count": 4,
   "id": "fd08e6a3-8843-4ca8-be02-1a284273272f",
   "metadata": {},
   "outputs": [
    {
     "name": "stderr",
     "output_type": "stream",
     "text": [
      "100%|██████████| 20000/20000 [07:39<00:00, 43.56it/s]"
     ]
    },
    {
     "name": "stdout",
     "output_type": "stream",
     "text": [
      "34.27\n"
     ]
    },
    {
     "name": "stderr",
     "output_type": "stream",
     "text": [
      "\n"
     ]
    }
   ],
   "source": [
    "# 1 задание\n",
    "rng = np.random.default_rng()\n",
    "N = int(68926/2)\n",
    "\n",
    "t_test = [] #список, куда мы будем складывать p-value\n",
    "simulation = 20000\n",
    "\n",
    "for _ in tqdm(range(simulation)):\n",
    "    #симулируем выборки определённого размера несколько раз для просмотров\n",
    "    group_A_views = rng.choice(dist_view['views'], size=N, replace=True, p=dist_view['p']).astype('int64')\n",
    "    group_B_views = rng.choice(dist_view['views'], size=N, replace=True, p=dist_view['p']).astype('int64')\n",
    "    group_B_views2 = (group_B_views + ((1 + rng.binomial(n=1, p=0.5, size=N)) * rng.binomial(n=1, p=0.9, size=N) * (group_B_views >= 50))).astype('int64')\n",
    "\n",
    "    #симулируем выборки определённого размера несколько раз для ctr\n",
    "    group_A_ctr = rng.choice(dist_ctr['ctr'], size=N, replace=True, p=dist_ctr['p'])\n",
    "    group_B_ctr = rng.choice(dist_ctr['ctr'], size=N, replace=True, p=dist_ctr['p'])\n",
    "    \n",
    "    cliks_group_A = rng.binomial(group_A_views, group_A_ctr, size = N)\n",
    "    cliks_group_B = rng.binomial(group_B_views2, group_B_ctr, size = N)\n",
    "    t_test.append(stats.ttest_ind(cliks_group_A, cliks_group_B, equal_var=False)[1])\n",
    "\n",
    "count_ = 0\n",
    "for i in t_test:\n",
    "    if i <= 0.05:\n",
    "        count_ += 1\n",
    "power1 = np.sum(count_)/simulation\n",
    "print(power1*100)"
   ]
  },
  {
   "cell_type": "markdown",
   "id": "23f60787-746c-40d6-8580-0f9c4f9ac5fc",
   "metadata": {},
   "source": [
    "В нашем случае статистическая мощность теста составляет 35%, это очень мало. Это говорит о том, что существует 65% вероятность того, что реальная разница между вариантами не будет обнаружена."
   ]
  },
  {
   "cell_type": "markdown",
   "id": "3d60743e-e9af-4f97-9c8f-841a4f3ed2b3",
   "metadata": {},
   "source": [
    "К нам снова пришли коллеги из ML-отдела с радостной новостью: они улучшили качество алгоритма! Теперь он срабатывает на пользователях с числом просмотров от 30 и выше.\n",
    "\n",
    "Подкорректируйте вашу симуляцию и укажите новое значение получившейся мощности."
   ]
  },
  {
   "cell_type": "code",
   "execution_count": 5,
   "id": "ea88d4c4-83b4-40a8-8459-d57ae1145477",
   "metadata": {},
   "outputs": [
    {
     "name": "stderr",
     "output_type": "stream",
     "text": [
      "100%|██████████| 20000/20000 [07:32<00:00, 44.15it/s]"
     ]
    },
    {
     "name": "stdout",
     "output_type": "stream",
     "text": [
      "58.504999999999995\n"
     ]
    },
    {
     "name": "stderr",
     "output_type": "stream",
     "text": [
      "\n"
     ]
    }
   ],
   "source": [
    "rng = np.random.default_rng()\n",
    "N = int(68926/2)\n",
    "\n",
    "t_test = []\n",
    "simulation = 20000\n",
    "for _ in tqdm(range(simulation)):\n",
    "    #симулируем выборки определённого размера несколько раз для просмотров\n",
    "    group_A_views = rng.choice(dist_view['views'], size=N, replace=True, p=dist_view['p']).astype('int64')\n",
    "    group_B_views = rng.choice(dist_view['views'], size=N, replace=True, p=dist_view['p']).astype('int64')\n",
    "    group_B_views2 = (group_B_views + ((1 + rng.binomial(n=1, p=0.5, size=N)) * rng.binomial(n=1, p=0.9, size=N) * (group_B_views >= 30))).astype('int64')\n",
    "\n",
    "    #симулируем выборки определённого размера несколько раз для ctr\n",
    "    group_A_ctr = rng.choice(dist_ctr['ctr'], size=N, replace=True, p=dist_ctr['p'])\n",
    "    group_B_ctr = rng.choice(dist_ctr['ctr'], size=N, replace=True, p=dist_ctr['p'])\n",
    "    \n",
    "    cliks_group_A = rng.binomial(group_A_views, group_A_ctr, size = N)\n",
    "    cliks_group_B = rng.binomial(group_B_views2, group_B_ctr, size = N)\n",
    "    t_test.append(stats.ttest_ind(cliks_group_A, cliks_group_B, equal_var=False)[1])\n",
    "\n",
    "count_ = 0\n",
    "for i in t_test:\n",
    "    if i <= 0.05:\n",
    "        count_ += 1\n",
    "power1 = np.sum(count_)/simulation\n",
    "print(power1*100)"
   ]
  },
  {
   "cell_type": "markdown",
   "id": "39bd0e89-e770-4334-be33-7cd8d41aebe6",
   "metadata": {},
   "source": [
    "Теперь у нас мощность около 59% - то есть мы выиграли где-то 24% дополнительной мощности. Это по-прежнему мало."
   ]
  },
  {
   "cell_type": "markdown",
   "id": "3c20ff47-713b-48af-988b-1f38b1667eb7",
   "metadata": {},
   "source": [
    "Теперь нас пришло радовать начальство: нам утвердили длительность эксперимента длиной в 2 недели! Давайте теперь допустим, что в эти две недели к нам придёт столько же пользователей, сколько пришло суммарно за период АА-теста и АБ-теста (опять же, смотрите диапазон дат в прошлом уроке).\n",
    "\n",
    "Подкорректируйте размер группы соответствующим образом. Сами распределения, на основе которых мы симулируем данные, менять не будем.\n",
    "\n",
    "Какая мощность вышла теперь?"
   ]
  },
  {
   "cell_type": "code",
   "execution_count": 6,
   "id": "0d2071f5-1af6-413a-8e30-33b90814a51f",
   "metadata": {},
   "outputs": [
    {
     "data": {
      "text/html": [
       "<div>\n",
       "<style scoped>\n",
       "    .dataframe tbody tr th:only-of-type {\n",
       "        vertical-align: middle;\n",
       "    }\n",
       "\n",
       "    .dataframe tbody tr th {\n",
       "        vertical-align: top;\n",
       "    }\n",
       "\n",
       "    .dataframe thead th {\n",
       "        text-align: right;\n",
       "    }\n",
       "</style>\n",
       "<table border=\"1\" class=\"dataframe\">\n",
       "  <thead>\n",
       "    <tr style=\"text-align: right;\">\n",
       "      <th></th>\n",
       "      <th>uniqExact(user_id)</th>\n",
       "    </tr>\n",
       "  </thead>\n",
       "  <tbody>\n",
       "    <tr>\n",
       "      <th>0</th>\n",
       "      <td>81988</td>\n",
       "    </tr>\n",
       "  </tbody>\n",
       "</table>\n",
       "</div>"
      ],
      "text/plain": [
       "   uniqExact(user_id)\n",
       "0               81988"
      ]
     },
     "execution_count": 6,
     "metadata": {},
     "output_type": "execute_result"
    }
   ],
   "source": [
    "# 3 задание\n",
    "\n",
    "import pandahouse as pandahouse\n",
    "import seaborn as sns\n",
    "from scipy import stats\n",
    "import matplotlib.pyplot as plt\n",
    "import numpy as np\n",
    "from tqdm import tqdm\n",
    "\n",
    "connection = {\n",
    "    'host': 'https://clickhouse.lab.karpov.courses/',\n",
    "    'password': 'dpo_python_2020',\n",
    "    'user': 'student',\n",
    "    'database': 'simulator_20240620'\n",
    "}\n",
    "\n",
    "df = \"\"\"\n",
    "select  uniqExact(user_id)\n",
    "FROM simulator_20240620.feed_actions \n",
    "WHERE toDate(time) >= '2024-06-08' and toDate(time) <= '2024-06-21'\n",
    "\"\"\"\n",
    "\n",
    "count_users = pandahouse.read_clickhouse(df, connection=connection)\n",
    "\n",
    "q = \"\"\"\n",
    "select views, count() as users\n",
    "from (select user_id,\n",
    "            sum(action = 'view') as views\n",
    "from simulator_20240620.feed_actions \n",
    "where toDate(time) >= '2024-06-21' and toDate(time) <= '2024-06-27'\n",
    "group by user_id\n",
    ")\n",
    "group by views\n",
    "order by views\n",
    "\"\"\" \n",
    "\n",
    "dist_view = pandahouse.read_clickhouse(q, connection=connection)\n",
    "dist_view['p'] = dist_view['users']/dist_view['users'].sum()\n",
    "\n",
    "qq = \"\"\"\n",
    "select \n",
    "   floor(ctr, 2) as ctr, count() as users\n",
    "from ( select user_id,\n",
    "            sum(action = 'like')/sum(action = 'view') as ctr\n",
    "from simulator_20240620.feed_actions \n",
    "where toDate(time) >= '2024-06-21' and toDate(time) <= '2024-06-27'\n",
    "group by user_id\n",
    ")\n",
    "group by ctr\n",
    "\"\"\"\n",
    "\n",
    "dist_ctr = pandahouse.read_clickhouse(qq, connection=connection)\n",
    "dist_ctr['p'] = dist_ctr['users']/dist_ctr['users'].sum()\n",
    "count_users"
   ]
  },
  {
   "cell_type": "code",
   "execution_count": 7,
   "id": "46c21830-03f7-4b46-8b48-60db90978070",
   "metadata": {},
   "outputs": [
    {
     "name": "stderr",
     "output_type": "stream",
     "text": [
      "100%|██████████| 20000/20000 [09:01<00:00, 36.92it/s]"
     ]
    },
    {
     "name": "stdout",
     "output_type": "stream",
     "text": [
      "66.745\n"
     ]
    },
    {
     "name": "stderr",
     "output_type": "stream",
     "text": [
      "\n"
     ]
    }
   ],
   "source": [
    "\n",
    "rng = np.random.default_rng()\n",
    "N = int(81988/2)\n",
    "\n",
    "t_test = []\n",
    "simulation = 20000\n",
    "for _ in tqdm(range(simulation)):\n",
    "    #симулируем выборки определённого размера несколько раз для просмотров\n",
    "    group_A_views = rng.choice(dist_view['views'], size=N, replace=True, p=dist_view['p']).astype('int64')\n",
    "    group_B_views = rng.choice(dist_view['views'], size=N, replace=True, p=dist_view['p']).astype('int64')\n",
    "    group_B_views2 = (group_B_views + ((1 + rng.binomial(n=1, p=0.5, size=N)) * rng.binomial(n=1, p=0.9, size=N) * (group_B_views >= 30))).astype('int64')\n",
    "\n",
    "    #симулируем выборки определённого размера несколько раз для ctr\n",
    "    group_A_ctr = rng.choice(dist_ctr['ctr'], size=N, replace=True, p=dist_ctr['p'])\n",
    "    group_B_ctr = rng.choice(dist_ctr['ctr'], size=N, replace=True, p=dist_ctr['p'])\n",
    "    \n",
    "    cliks_group_A = rng.binomial(group_A_views, group_A_ctr, size = N)\n",
    "    cliks_group_B = rng.binomial(group_B_views2, group_B_ctr, size = N)\n",
    "    t_test.append(stats.ttest_ind(cliks_group_A, cliks_group_B, equal_var=False)[1])\n",
    "\n",
    "count_ = 0\n",
    "for i in t_test:\n",
    "    if i <= 0.05:\n",
    "        count_ += 1\n",
    "power1 = np.sum(count_)/simulation\n",
    "print(power1*100)"
   ]
  },
  {
   "cell_type": "markdown",
   "id": "07705a28-1286-4a05-8e4d-8da43590159b",
   "metadata": {},
   "source": [
    "Всё это время мы анализировали наши выборки целиком — и тех пользователей, на которых алгоритм повлиял, и тех, кого он не мог затронуть (меньше 30 просмотров). А что, если мы будем отбирать только нужных пользователей и скармливать t-тесту именно их? Да, выборка будет меньше, но мы избавимся от мусора — а значит, и чувствительность наверняка будет выше.\n",
    "\n",
    "Мы можем отсеять их примерно таким образом:\n",
    "(здесь мы симулируем данные просмотров, CTR и лайков)\n",
    "\n",
    "mask_A = group_A_views >= 30\n",
    "mask_B = group_B_views >= 30\n",
    "\n",
    "scipy.stats.ttest_ind(group_A_likes[mask_A], group_B_likes[mask_B], equal_var=False)\n",
    "\n",
    "Какая мощность получилась сейчас? Дополнительно: какие выводы вы сделали для себя и о чём нам говорят эти результаты?"
   ]
  },
  {
   "cell_type": "code",
   "execution_count": 8,
   "id": "f6622350-3261-4178-bd58-cfb45a2062fc",
   "metadata": {},
   "outputs": [
    {
     "name": "stderr",
     "output_type": "stream",
     "text": [
      "100%|██████████| 20000/20000 [08:51<00:00, 37.64it/s]"
     ]
    },
    {
     "name": "stdout",
     "output_type": "stream",
     "text": [
      "76.765\n"
     ]
    },
    {
     "name": "stderr",
     "output_type": "stream",
     "text": [
      "\n"
     ]
    }
   ],
   "source": [
    "# 4 задание\n",
    "\n",
    "\n",
    "rng = np.random.default_rng()\n",
    "N = int(81988/2)\n",
    "\n",
    "t_test = []\n",
    "simulation = 20000\n",
    "for _ in tqdm(range(simulation)):\n",
    "    #симулируем выборки определённого размера несколько раз для просмотров\n",
    "    group_A_views = rng.choice(dist_view['views'], size=N, replace=True, p=dist_view['p']).astype('int64')\n",
    "    group_B_views = rng.choice(dist_view['views'], size=N, replace=True, p=dist_view['p']).astype('int64')\n",
    "    group_B_views2 = (group_B_views + ((1 + rng.binomial(n=1, p=0.5, size=N)) * rng.binomial(n=1, p=0.9, size=N) * (group_B_views >= 30))).astype('int64')\n",
    "\n",
    "    mask_A = group_A_views >= 30\n",
    "    mask_B = group_B_views2 >= 30\n",
    "\n",
    "    #симулируем выборки определённого размера несколько раз для ctr\n",
    "    group_A_ctr = rng.choice(dist_ctr['ctr'], size=N, replace=True, p=dist_ctr['p'])\n",
    "    group_B_ctr = rng.choice(dist_ctr['ctr'], size=N, replace=True, p=dist_ctr['p'])\n",
    "    \n",
    "    cliks_group_A = rng.binomial(group_A_views, group_A_ctr, size = N)\n",
    "    cliks_group_B = rng.binomial(group_B_views2, group_B_ctr, size = N)\n",
    "    t_test.append(stats.ttest_ind(cliks_group_A[mask_A], cliks_group_B[mask_B], equal_var=False)[1])\n",
    "    \n",
    "count_ = 0\n",
    "for i in t_test:\n",
    "    if i <= 0.05:\n",
    "        count_ += 1\n",
    "power1 = np.sum(count_)/simulation\n",
    "print(power1*100)"
   ]
  },
  {
   "cell_type": "markdown",
   "id": "2685868f-818f-4123-b324-027aeefc61cb",
   "metadata": {},
   "source": [
    "Практически 80%, но все равно не хватает. В этом случае, можно сделать:\n",
    " - Отказаться от идеи эксперимента вообще. Если не хватает ресурсов для детекции такого изменения, то и смысла особо действовать нет.\n",
    " - Всё равно запустить эксперимент и надеяться на лучшее. Платой за это решение будет меньшая уверенность в полученных результатах.\n",
    " - Дорабатывать алгоритм, чтобы его эффект либо распространялся на большее число пользователей, либо чтобы он был больше."
   ]
  },
  {
   "cell_type": "code",
   "execution_count": null,
   "id": "68406b20-1d27-4888-82b0-a5c16b7b22ed",
   "metadata": {},
   "outputs": [],
   "source": []
  }
 ],
 "metadata": {
  "kernelspec": {
   "display_name": "Python 3 (ipykernel)",
   "language": "python",
   "name": "python3"
  },
  "language_info": {
   "codemirror_mode": {
    "name": "ipython",
    "version": 3
   },
   "file_extension": ".py",
   "mimetype": "text/x-python",
   "name": "python",
   "nbconvert_exporter": "python",
   "pygments_lexer": "ipython3",
   "version": "3.8.10"
  }
 },
 "nbformat": 4,
 "nbformat_minor": 5
}
