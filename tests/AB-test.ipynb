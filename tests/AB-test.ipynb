{
 "cells": [
  {
   "cell_type": "markdown",
   "id": "38677ed0-7a74-41d6-9b29-8c9f6c84d023",
   "metadata": {},
   "source": [
    "Пришло время проанализировать результаты эксперимента, который мы провели вместе с командой дата сайентистов. Эксперимент проходил с 2024-05-31 по 2024-06-06 включительно. Для эксперимента были задействованы 2 и 1 группы. \n",
    "В группе 2 был использован один из новых алгоритмов рекомендации постов, группа 1 использовалась в качестве контроля. \n",
    "Основная гипотеза заключается в том, что новый алгоритм во 2-й группе приведет к увеличению CTR. \n",
    "## Задание\n",
    "Проанализировать данные А/B-теста.\n",
    "1) Выбрать метод анализа и сравнить CTR в двух группах (мы разбирали t-тест, Пуассоновский бутстреп, тест Манна-Уитни, t-тест на сглаженном ctr (α=5) а также t-тест и тест Манна-Уитни поверх бакетного преобразования).\n",
    "2) Сравните данные этими тестами. А еще посмотрите на распределения глазами. Почему тесты сработали именно так? \n",
    "3) Опишите потенциальную ситуацию, когда такое изменение могло произойти. Тут нет идеального ответа, подумайте.\n",
    "4) Напишите рекомендацию, будем ли мы раскатывать новый алгоритм на всех новых пользователей или все-таки не стоит."
   ]
  },
  {
   "cell_type": "code",
   "execution_count": null,
   "id": "e43c0013-834d-4a7f-b33d-80e6cdd535f1",
   "metadata": {},
   "outputs": [],
   "source": [
    "# Выгружаем данные и подключаем необходимые библиотеки.\n",
    "import pandahouse as pandahouse\n",
    "import seaborn as sns\n",
    "import pandas as pd\n",
    "import numpy as np\n",
    "from scipy.stats import poisson\n",
    "from scipy import stats\n",
    "import statistics as st\n",
    "\n",
    "connection = {\n",
    "    'host': 'https://clickhouse.lab.karpov.courses/',\n",
    "    'password': 'dpo_python_2020',\n",
    "    'user': 'student',\n",
    "    'database': 'simulator_20240620'\n",
    "}\n",
    "\n",
    "q = \"\"\"\n",
    "SELECT exp_group, \n",
    "    user_id,\n",
    "    sum(action = 'like') as likes,\n",
    "    sum(action = 'view') as views,\n",
    "    likes/views as ctr\n",
    "FROM {db}.feed_actions \n",
    "WHERE toDate(time) >= '2024-05-31' and toDate(time) <= '2024-06-06'\n",
    "    and exp_group in (1,2)\n",
    "GROUP BY exp_group, user_id\n",
    "\"\"\"\n",
    "\n",
    "df = pandahouse.read_clickhouse(q, connection=connection)"
   ]
  },
  {
   "cell_type": "raw",
   "id": "428469a8-88db-46c6-a7a8-378ec3158ed0",
   "metadata": {},
   "source": [
    "2) Сравните данные этими тестами. А еще посмотрите на распределения глазами. Почему тесты сработали именно так?"
   ]
  },
  {
   "cell_type": "code",
   "execution_count": 47,
   "id": "249cd4c2-22b3-4799-8449-3b83ce721cd2",
   "metadata": {},
   "outputs": [
    {
     "name": "stdout",
     "output_type": "stream",
     "text": [
      "Среднее 1 группы:  0.216773994120072  Среднее 2 группы:  0.2161016893237817\n",
      "Медиана 1 группы:  0.2058823529411764  Медиана 2 группы:  0.1532846715328467\n",
      "Мода 1 группы:  0    0.2\n",
      "Name: ctr, dtype: float64  Мода 1 группы:  0    0.333333\n",
      "Name: ctr, dtype: float64\n"
     ]
    },
    {
     "data": {
      "text/plain": [
       "MannwhitneyuResult(statistic=55189913.0, pvalue=4.632205841806026e-45)"
      ]
     },
     "execution_count": 47,
     "metadata": {},
     "output_type": "execute_result"
    },
    {
     "data": {
      "image/png": "[encoded data removed]",
      "text/plain": [
       "<Figure size 432x288 with 1 Axes>"
      ]
     },
     "metadata": {
      "needs_background": "light"
     },
     "output_type": "display_data"
    }
   ],
   "source": [
    "# Сделаем графики в seaborn \n",
    "\n",
    "groups = sns.histplot(data = df, \n",
    "              x='ctr', \n",
    "              hue='exp_group', \n",
    "              palette = ['r', 'b'],\n",
    "              alpha=0.5,\n",
    "              kde=False)\n",
    "\n",
    "#T-тест\n",
    "\n",
    "stats.ttest_ind(df[df.exp_group == 1].ctr,\n",
    "                df[df.exp_group == 2].ctr,\n",
    "                equal_var=False)\n",
    "\n",
    "stats.mannwhitneyu(df[df.exp_group == 1].ctr, \n",
    "                   df[df.exp_group == 2].ctr,\n",
    "                   alternative = 'two-sided')\n"
   ]
  },
  {
   "cell_type": "raw",
   "id": "e27fd602-2614-4ba0-8f65-25440ddea617",
   "metadata": {},
   "source": [
    "# Графики распределений явно иллюстрируют, что группы отличаются. Бимодальность распределения 2 группы говорит нам о том, что есть часть пользователей, на которых мы повлияли скорее хорошо и есть часть пользователей, на которых мы повлияли скорее плохо.\n",
    "\n",
    "# Т-тест показывает, что отличий между группами нет. Не удивительно, т.к у 2 группы распределение далеко не одномодальное. Одним из условий использования т-теста является то, что распределения групп должно быть одномодальным, иначе тест будет работать не корректно. В целом при расчете среднего в 2х группах, видно, что они практически одинаковые. И распределение 2й группы скошено в право.\n",
    "\n",
    "# Для теста Манна-Утни не критично какое распределение имеют группы, но важно, чтобы значения ctr были довольно разными. В целом это условие выполнено. Тест показывает, что между группами имеется отличие."
   ]
  },
  {
   "cell_type": "code",
   "execution_count": 19,
   "id": "047615a5-3def-4e8f-9a33-e45f3735a3b4",
   "metadata": {},
   "outputs": [
    {
     "data": {
      "text/plain": [
       "<Axes: xlabel='ctr', ylabel='Count'>"
      ]
     },
     "execution_count": 19,
     "metadata": {},
     "output_type": "execute_result"
    },
    {
     "data": {
      "image/png": "[encoded data removed]",
      "text/plain": [
       "<Figure size 432x288 with 1 Axes>"
      ]
     },
     "metadata": {
      "needs_background": "light"
     },
     "output_type": "display_data"
    }
   ],
   "source": [
    "# Сглаженный CTR\n",
    "\n",
    "def get_smothed_ctr_1(user_likes_1, user_views_1, global_ctr_1, alpha):\n",
    "    smothed_ctr_1 = (user_likes_1 + alpha * global_ctr_1) / (user_views_1 + alpha)\n",
    "    smothed_ctr_2 = (user_likes_2 + alpha * global_ctr_2) / (user_views_2 + alpha)\n",
    "    return smothed_ctr_1\n",
    "\n",
    "def get_smothed_ctr_2(user_likes_2, user_views_2, global_ctr_2, alpha):\n",
    "    smothed_ctr_2 = (user_likes_2 + alpha * global_ctr_2) / (user_views_2 + alpha)\n",
    "    return smothed_ctr_2\n",
    "\n",
    "global_ctr_1 = df[df.exp_group == 1].likes.sum()/df[df.exp_group == 1].views.sum()\n",
    "global_ctr_2 = df[df.exp_group == 2].likes.sum()/df[df.exp_group == 2].views.sum()\n",
    "\n",
    "user_likes_1 = df[df.exp_group == 1].likes.sum()\n",
    "user_likes_2 = df[df.exp_group == 2].likes.sum()\n",
    "user_views_1 = df[df.exp_group == 1].views.sum()\n",
    "user_views_2 = df[df.exp_group == 2].views.sum()\n",
    "\n",
    "smothed_ctr_1 = get_smothed_ctr_1(user_likes_1, user_views_1, global_ctr_1, alpha = 0.05)\n",
    "smothed_ctr_2 = get_smothed_ctr_2(user_likes_2, user_views_2, global_ctr_2, alpha = 0.05)\n",
    "\n",
    "# Графики распределений CTR по группам до сглаживания\n",
    "group1 = df[df.exp_group == 1].copy()\n",
    "sns.histplot(data = group1.ctr, \n",
    "             kde = False)\n",
    "\n",
    "group2 = df[df.exp_group == 2].copy()\n",
    "sns.histplot(data = group2.ctr, \n",
    "             kde = False)"
   ]
  },
  {
   "cell_type": "code",
   "execution_count": 14,
   "id": "be751d40-9ba9-4f70-9e0e-c1d6434641de",
   "metadata": {},
   "outputs": [
    {
     "name": "stdout",
     "output_type": "stream",
     "text": [
      "Ttest_indResult(statistic=1.9460491517027683, pvalue=0.05166679015318526)\n",
      "MannwhitneyuResult(statistic=55528353.0, pvalue=2.396534039374286e-50)\n"
     ]
    },
    {
     "data": {
      "image/png": "[encoded data removed]",
      "text/plain": [
       "<Figure size 432x288 with 1 Axes>"
      ]
     },
     "metadata": {
      "needs_background": "light"
     },
     "output_type": "display_data"
    }
   ],
   "source": [
    "group1['smothed_ctr_1'] = df.apply(\n",
    "    lambda x: get_smothed_ctr_1(x['likes'], x['views'], global_ctr_1, alpha = 5), axis=1)\n",
    "\n",
    "group2['smothed_ctr_2'] = df.apply(\n",
    "    lambda x: get_smothed_ctr_2(x['likes'], x['views'], global_ctr_2, alpha = 5), axis=1)\n",
    "\n",
    "sns.histplot(group1.smothed_ctr_1, \n",
    "             kde = False)\n",
    "\n",
    "sns.histplot(group2.smothed_ctr_2, \n",
    "             kde = False)\n",
    "\n",
    "ttest = stats.ttest_ind(group1.smothed_ctr_1,\n",
    "                group2.smothed_ctr_2,\n",
    "                equal_var=False)\n",
    "\n",
    "mannwhit = stats.mannwhitneyu(group1.smothed_ctr_1,\n",
    "                group2.smothed_ctr_2,\n",
    "                alternative = 'two-sided')\n",
    "print(ttest)\n",
    "print(mannwhit)"
   ]
  },
  {
   "cell_type": "raw",
   "id": "250edf2d-580a-4361-9d70-d2eb07d8596f",
   "metadata": {},
   "source": [
    "Судя по графикам до и после сглаживания, разница в ctr есть, но она не значительна. Т-тест показывает более менее адекватное значение, тем не менее отвергает нулевую гипотезу.\n",
    "Тест Манна-Уитни изменился на порядок. Я бы сказала, что в данном случае сглаживание не лучший метод для анализа."
   ]
  },
  {
   "cell_type": "code",
   "execution_count": 70,
   "id": "610c9404-0246-4ee2-977e-45d294507725",
   "metadata": {},
   "outputs": [
    {
     "data": {
      "text/plain": [
       "<Axes: ylabel='Count'>"
      ]
     },
     "execution_count": 70,
     "metadata": {},
     "output_type": "execute_result"
    },
    {
     "data": {
      "image/png": "[encoded data removed]",
      "text/plain": [
       "<Figure size 432x288 with 1 Axes>"
      ]
     },
     "metadata": {
      "needs_background": "light"
     },
     "output_type": "display_data"
    }
   ],
   "source": [
    "def bootstrap(likes1, views1, likes2, views2, n_bootstrap=10000):\n",
    "\n",
    "    poisson_bootstraps1 = stats.poisson(1).rvs(\n",
    "        (n_bootstrap, len(likes1))).astype(np.int64)\n",
    "\n",
    "    poisson_bootstraps2 = stats.poisson(1).rvs(\n",
    "            (n_bootstrap, len(likes2))).astype(np.int64)\n",
    "    \n",
    "    globalCTR1 = (poisson_bootstraps1*likes1).sum(axis=1)/(poisson_bootstraps1*views1).sum(axis=1)\n",
    "    \n",
    "    globalCTR2 = (poisson_bootstraps2*likes2).sum(axis=1)/(poisson_bootstraps2*views2).sum(axis=1)\n",
    "\n",
    "    return globalCTR1, globalCTR2\n",
    "\n",
    "likes1 = df[df.exp_group == 1].likes.to_numpy()\n",
    "views1 = df[df.exp_group == 1].views.to_numpy()\n",
    "likes2 = df[df.exp_group == 2].likes.to_numpy()\n",
    "views2 = df[df.exp_group == 2].views.to_numpy()\n",
    "\n",
    "ctr1, ctr2 = bootstrap(likes1, views1, likes2, views2)\n",
    "\n",
    "sns.histplot(ctr1)\n",
    "sns.histplot(ctr2)"
   ]
  },
  {
   "cell_type": "code",
   "execution_count": null,
   "id": "7a876a3a-6a5b-4f34-afa2-63cd4bfa7cff",
   "metadata": {},
   "outputs": [],
   "source": [
    "# Не перескаются, значит группы имеют различия."
   ]
  },
  {
   "cell_type": "code",
   "execution_count": 71,
   "id": "b3313119-2d0b-4c73-be5c-474f1af66f9b",
   "metadata": {},
   "outputs": [
    {
     "data": {
      "text/plain": [
       "<Axes: ylabel='Count'>"
      ]
     },
     "execution_count": 71,
     "metadata": {},
     "output_type": "execute_result"
    },
    {
     "data": {
      "image/png": "[encoded data removed]",
      "text/plain": [
       "<Figure size 432x288 with 1 Axes>"
      ]
     },
     "metadata": {
      "needs_background": "light"
     },
     "output_type": "display_data"
    }
   ],
   "source": [
    "#Разница между глобальными CTR\n",
    "\n",
    "sns.histplot(ctr1 - ctr2)\n"
   ]
  },
  {
   "cell_type": "code",
   "execution_count": null,
   "id": "c43f317c-190b-4d71-86b2-f327a5445912",
   "metadata": {},
   "outputs": [],
   "source": [
    "# Разность близка к 0, но все же находится правее, соответственно, различия в группах есть."
   ]
  },
  {
   "cell_type": "code",
   "execution_count": 77,
   "id": "7cd36994-ae9e-430d-9bc6-af16fc223e2b",
   "metadata": {},
   "outputs": [],
   "source": [
    "qq = \"\"\"\n",
    "\n",
    "SELECT exp_group, bucket,\n",
    "    sum(likes)/sum(views) as bucket_ctr,\n",
    "    quantileExact(0.9)(ctr) as ctr9\n",
    "FROM (SELECT exp_group, \n",
    "        xxHash64(user_id)%50 as bucket,\n",
    "        user_id,\n",
    "        sum(action = 'like') as likes,\n",
    "        sum(action = 'view') as views,\n",
    "        likes/views as ctr\n",
    "    FROM {db}.feed_actions \n",
    "    WHERE toDate(time) >= '2024-05-31' and toDate(time) <= '2024-06-06'\n",
    "        and exp_group in (1,2)\n",
    "    GROUP BY exp_group, bucket, user_id)\n",
    "GROUP BY exp_group, bucket\n",
    "\"\"\"\n",
    "\n",
    "dff = pandahouse.read_clickhouse(qq, connection=connection)"
   ]
  },
  {
   "cell_type": "code",
   "execution_count": 22,
   "id": "2e4bcc91-ae69-470b-a826-180d98bb2c4f",
   "metadata": {},
   "outputs": [
    {
     "data": {
      "text/plain": [
       "MannwhitneyuResult(statistic=1997.0, pvalue=2.6576427804010095e-07)"
      ]
     },
     "execution_count": 22,
     "metadata": {},
     "output_type": "execute_result"
    }
   ],
   "source": [
    "#тест Манна-Уитни видит отличие\n",
    "stats.mannwhitneyu(dff[dff.exp_group == 1].bucket_ctr, \n",
    "                   dff[dff.exp_group == 2].bucket_ctr, \n",
    "                   alternative = 'two-sided')"
   ]
  },
  {
   "cell_type": "code",
   "execution_count": 25,
   "id": "d4a6ad78-f0e9-4843-8a0d-6f0577874864",
   "metadata": {},
   "outputs": [
    {
     "data": {
      "text/plain": [
       "Ttest_indResult(statistic=5.614819358149381, pvalue=4.592644937473873e-07)"
      ]
     },
     "execution_count": 25,
     "metadata": {},
     "output_type": "execute_result"
    }
   ],
   "source": [
    "#и t-тест тоже\n",
    "stats.ttest_ind(dff[dff.exp_group == 1].bucket_ctr, \n",
    "                   dff[dff.exp_group == 2].bucket_ctr, \n",
    "                   equal_var = False)"
   ]
  },
  {
   "cell_type": "raw",
   "id": "9e5cd236-29d3-47d1-b7d5-a04e7da15394",
   "metadata": {},
   "source": [
    "3) Опишите потенциальную ситуацию, когда такое изменение могло произойти. Тут нет идеального ответа, подумайте.\n",
    "4) Напишите рекомендацию, будем ли мы раскатывать новый алгоритм на всех новых пользователей или все-таки не стоит."
   ]
  },
  {
   "cell_type": "raw",
   "id": "a0224a3a-70e3-450d-82f8-f74c502f7d13",
   "metadata": {},
   "source": [
    "Я бы не раскатывала новый алгоритм. Непараметрический Манна-Уитни практически неинтрепретируемый продуктово.\n",
    "По тестам ясно, что различия между группами есть, но какие? CTR изменился для 2 группы, увеличился ли он или уменьшился? \n",
    "Я склонна считать, что CTR для 2 группы уменьшился, не смотря на то, что есть доля пользователей, которые ставили больше лайков, их по количеству гораздо меньше.\n",
    "Такая ситуация могла произойти, например, в случае изменения контента. Одной части пользователей \"зашел\" контент, а другой - нет."
   ]
  }
 ],
 "metadata": {
  "kernelspec": {
   "display_name": "Python 3 (ipykernel)",
   "language": "python",
   "name": "python3"
  },
  "language_info": {
   "codemirror_mode": {
    "name": "ipython",
    "version": 3
   },
   "file_extension": ".py",
   "mimetype": "text/x-python",
   "name": "python",
   "nbconvert_exporter": "python",
   "pygments_lexer": "ipython3",
   "version": "3.8.10"
  }
 },
 "nbformat": 4,
 "nbformat_minor": 5
}
