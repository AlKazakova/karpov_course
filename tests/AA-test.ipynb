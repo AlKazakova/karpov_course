{
 "cells": [
  {
   "cell_type": "markdown",
   "id": "e6d4399a-87ac-4f98-a293-4336d474aff0",
   "metadata": {
    "tags": []
   },
   "source": [
    "## Задание\n",
    "\n",
    "Провести А/А-тест и убедиться в том, что система сплитования работает корректно.\n",
    "\n",
    "Провести А/А-тест с '2024-05-24' по '2024-05-30'. Сделать симуляцию, как будто мы провели 10000 А/А-тестов. На каждой итерации вам нужно сформировать подвыборки без повторения в 500 юзеров из 2 и 3 экспериментальной группы. Провести сравнение этих подвыборок t-testом. \n",
    "\n",
    "Что ожидаем в ответе:\n",
    "- Построить гистограмму распределения получившихся 10000 p-values.\n",
    "\n",
    "- Посчитать, какой процент p values оказался меньше либо равен 0.05\n",
    "\n",
    "- Написать вывод по проведенному А/А-тесту, корректно ли работает наша система сплитования. При выполнении задания важно обосновать и аргументировать ваш вывод."
   ]
  },
  {
   "cell_type": "code",
   "execution_count": 1,
   "id": "2daab936-aa93-404f-bc28-96d6bbfba8f3",
   "metadata": {},
   "outputs": [
    {
     "data": {
      "text/plain": [
       "<Axes: ylabel='Count'>"
      ]
     },
     "execution_count": 1,
     "metadata": {},
     "output_type": "execute_result"
    },
    {
     "data": {
      "image/png": "[encoded data removed]",
      "text/plain": [
       "<Figure size 432x288 with 1 Axes>"
      ]
     },
     "metadata": {
      "needs_background": "light"
     },
     "output_type": "display_data"
    }
   ],
   "source": [
    "import pandahouse as pandahouse\n",
    "import seaborn as sns\n",
    "import pandas as pd\n",
    "import numpy as np\n",
    "from scipy.stats import poisson\n",
    "from scipy import stats\n",
    "\n",
    "#подключение к clickhouse\n",
    "connection = {\n",
    "    'host': 'https://clickhouse.lab.karpov.courses/',\n",
    "    'password': 'dpo_python_2020',\n",
    "    'user': 'student',\n",
    "    'database': 'simulator_20240620'\n",
    "}\n",
    "\n",
    "qq = \"\"\"\n",
    "select exp_group,\n",
    "        user_id,\n",
    "        sum(action = 'like') as likes,\n",
    "        sum(action = 'view') as views,\n",
    "        likes/views as ctr\n",
    "from {db}.feed_actions\n",
    "where toDate(time) >= '2024-05-24' and toDate(time) <= '2024-05-30'\n",
    "    and exp_group in (2,3)\n",
    "group by exp_group, user_id\n",
    "\"\"\"\n",
    "\n",
    "df = pandahouse.read_clickhouse(qq, connection=connection)\n",
    "    \n",
    "\n",
    "stat_test = []\n",
    "for i in range(10000):\n",
    "    subgroup_2 =  df[df.exp_group == 2].ctr.sample(500)\n",
    "    subgroup_3 =  df[df.exp_group == 3].ctr.sample(500)\n",
    "    ttest = stats.ttest_ind(subgroup_2, subgroup_3, equal_var=False) \n",
    "    stat_test.append(ttest[1])\n",
    "    \n",
    "sns.histplot(stat_test, kde=False)"
   ]
  },
  {
   "cell_type": "code",
   "execution_count": 9,
   "id": "07a1e86e-d2aa-4228-baff-0e60ae1608a7",
   "metadata": {},
   "outputs": [
    {
     "name": "stdout",
     "output_type": "stream",
     "text": [
      "p_value <= 0.05 составляет  4.79 %\n"
     ]
    }
   ],
   "source": [
    "count = 0\n",
    "for j in stat_test:\n",
    "    if j <= 0.05:\n",
    "        count += 1\n",
    "\n",
    "percentage = count/len(stat_test)*100\n",
    "print('p_value <= 0.05 составляет ', percentage, '%')"
   ]
  },
  {
   "cell_type": "markdown",
   "id": "b73fdd47-7706-422e-85a3-d4cfb3f72866",
   "metadata": {},
   "source": [
    "Система сплитования работает корректно. Те значения p-value, которые меньше или равны 0.05 составляет ~5%. Это говорит о том, что в 5% случаев средние наших выборок неравны. \n",
    "Т.о принимаем нулевую гипотезу и делаем вывод, что группы 2 и 3 одинаковые."
   ]
  }
 ],
 "metadata": {
  "kernelspec": {
   "display_name": "Python 3 (ipykernel)",
   "language": "python",
   "name": "python3"
  },
  "language_info": {
   "codemirror_mode": {
    "name": "ipython",
    "version": 3
   },
   "file_extension": ".py",
   "mimetype": "text/x-python",
   "name": "python",
   "nbconvert_exporter": "python",
   "pygments_lexer": "ipython3",
   "version": "3.8.10"
  }
 },
 "nbformat": 4,
 "nbformat_minor": 5
}
