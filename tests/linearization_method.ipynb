{
 "cells": [
  {
   "cell_type": "markdown",
   "id": "15341e44-a76c-4d98-8785-e3343feccc95",
   "metadata": {},
   "source": [
    "## Задача\n",
    "Проанализируйте тест между группами 0 и 3 по метрике линеаризованных лайков. Видно ли отличие? Стало ли 𝑝−𝑣𝑎𝑙𝑢𝑒 меньше по сравнению с обычным CTR?\n",
    "\n",
    "Проанализируйте тест между группами 1 и 2 по метрике линеаризованных лайков. Видно ли отличие? Стало ли 𝑝−𝑣𝑎𝑙𝑢𝑒 меньше по сравнению с обычным CTR?\n",
    "\n",
    "Данные берём в том же диапазоне, в котором проводился АБ-тест.\n",
    "При выполнении задания важно обосновать и аргументировать ваши выводы."
   ]
  },
  {
   "cell_type": "code",
   "execution_count": null,
   "id": "78274b62-5c04-4c1f-9268-74724d38f128",
   "metadata": {},
   "outputs": [],
   "source": [
    "import pandahouse as pandahouse\n",
    "import seaborn as sns\n",
    "import pandas as pd\n",
    "import numpy as np\n",
    "from scipy.stats import poisson\n",
    "from scipy import stats\n",
    "import matplotlib.pyplot as plt\n",
    "\n",
    "#подключение к clickhouse\n",
    "connection = {\n",
    "    'host': 'https://clickhouse.lab.karpov.courses/',\n",
    "    'password': 'dpo_python_2020',\n",
    "    'user': 'student',\n",
    "    'database': 'simulator_20240620'\n",
    "}\n",
    "\n",
    "q = \"\"\"\n",
    "select exp_group,\n",
    "        user_id,\n",
    "        sum(action = 'like') as likes,\n",
    "        sum(action = 'view') as views,\n",
    "        likes/views as ctr\n",
    "from {db}.feed_actions\n",
    "where toDate(time) >= '2024-05-31' and toDate(time) <= '2024-06-06'\n",
    "    and exp_group in (0,3)\n",
    "group by exp_group, user_id\n",
    "\"\"\"\n",
    "\n",
    "df = pandahouse.read_clickhouse(q, connection=connection)\n",
    "    \n"
   ]
  },
  {
   "cell_type": "code",
   "execution_count": 25,
   "id": "05e2400c-51b2-42c4-9d5d-640b10f78b26",
   "metadata": {},
   "outputs": [
    {
     "name": "stdout",
     "output_type": "stream",
     "text": [
      "Ttest_indResult(statistic=-16.186230032932844, pvalue=1.4918137745326139e-58)\n",
      "Ttest_indResult(statistic=-13.935320516755773, pvalue=6.216047483062228e-44)\n"
     ]
    }
   ],
   "source": [
    "# Считаем общий CTR в контрольной группе  𝐶𝑇𝑅𝑐𝑜𝑛𝑡𝑟𝑜𝑙=𝑠𝑢𝑚(𝑙𝑖𝑘𝑒𝑠)/𝑠𝑢𝑚(𝑣𝑖𝑒𝑤𝑠)\n",
    "general_ctr = df[df.exp_group == 0].likes.sum()/df[df.exp_group == 0].views.sum()\n",
    "\n",
    "# Посчитаем в обеих группах поюзерную метрику  𝑙𝑖𝑛𝑒𝑎𝑟𝑖𝑧𝑒𝑑_𝑙𝑖𝑘𝑒𝑠=𝑙𝑖𝑘𝑒𝑠−𝐶𝑇𝑅𝑐𝑜𝑛𝑡𝑟𝑜𝑙∗𝑣𝑖𝑒𝑤𝑠\n",
    "linearized_likes_0 = df[df.exp_group == 0].likes - general_ctr*df[df.exp_group == 0].views\n",
    "linearized_likes_3 = df[df.exp_group == 3].likes - general_ctr*df[df.exp_group == 3].views\n",
    "\n",
    "#T-тест\n",
    "ttest1 = stats.ttest_ind(linearized_likes_0,\n",
    "                linearized_likes_3,\n",
    "                equal_var=False)\n",
    "\n",
    "ttest2 = stats.ttest_ind(df[df.exp_group == 0].ctr,\n",
    "                df[df.exp_group == 3].ctr,\n",
    "                equal_var=False)\n",
    "\n",
    "print(ttest1)\n",
    "print(ttest2)"
   ]
  },
  {
   "cell_type": "markdown",
   "id": "d27aeb57-a941-4062-b556-e5f669529c1c",
   "metadata": {},
   "source": [
    "Проанализируйте тест между группами 0 и 3 по метрике линеаризованных лайков. Видно ли отличие? Стало ли 𝑝−𝑣𝑎𝑙𝑢𝑒 меньше по сравнению с обычным CTR?\n",
    "\n",
    "Отличие есть, на несколько порядков. p-value стало меньше. "
   ]
  },
  {
   "cell_type": "code",
   "execution_count": 2,
   "id": "83ce1c5a-b554-47f4-ad78-f2191eee4d2e",
   "metadata": {},
   "outputs": [
    {
     "name": "stdout",
     "output_type": "stream",
     "text": [
      "Ttest_indResult(statistic=5.93637710193448, pvalue=2.9805064038668164e-09)\n",
      "Ttest_indResult(statistic=0.4051491913112757, pvalue=0.685373331140751)\n"
     ]
    }
   ],
   "source": [
    "import pandahouse as pandahouse\n",
    "import seaborn as sns\n",
    "import pandas as pd\n",
    "import numpy as np\n",
    "from scipy.stats import poisson\n",
    "from scipy import stats\n",
    "import matplotlib.pyplot as plt\n",
    "\n",
    "#подключение к clickhouse\n",
    "connection = {\n",
    "    'host': 'https://clickhouse.lab.karpov.courses/',\n",
    "    'password': 'dpo_python_2020',\n",
    "    'user': 'student',\n",
    "    'database': 'simulator_20240620'\n",
    "}\n",
    "\n",
    "q = \"\"\"\n",
    "select exp_group,\n",
    "        user_id,\n",
    "        sum(action = 'like') as likes,\n",
    "        sum(action = 'view') as views,\n",
    "        likes/views as ctr\n",
    "from {db}.feed_actions\n",
    "where toDate(time) >= '2024-05-31' and toDate(time) <= '2024-06-06'\n",
    "    and exp_group in (1,2)\n",
    "group by exp_group, user_id\n",
    "\"\"\"\n",
    "\n",
    "df = pandahouse.read_clickhouse(q, connection=connection)\n",
    "    \n",
    "# Считаем общий CTR в контрольной группе  𝐶𝑇𝑅𝑐𝑜𝑛𝑡𝑟𝑜𝑙=𝑠𝑢𝑚(𝑙𝑖𝑘𝑒𝑠)/𝑠𝑢𝑚(𝑣𝑖𝑒𝑤𝑠)\n",
    "general_ctr = df[df.exp_group == 1].likes.sum()/df[df.exp_group == 1].views.sum()\n",
    "\n",
    "# Посчитаем в обеих группах поюзерную метрику  𝑙𝑖𝑛𝑒𝑎𝑟𝑖𝑧𝑒𝑑_𝑙𝑖𝑘𝑒𝑠=𝑙𝑖𝑘𝑒𝑠−𝐶𝑇𝑅𝑐𝑜𝑛𝑡𝑟𝑜𝑙∗𝑣𝑖𝑒𝑤𝑠\n",
    "linearized_likes_1 = df[df.exp_group == 1].likes - general_ctr*df[df.exp_group == 1].views\n",
    "linearized_likes_2 = df[df.exp_group == 2].likes - general_ctr*df[df.exp_group == 2].views\n",
    "\n",
    "ttest3 = stats.ttest_ind(linearized_likes_1,\n",
    "                linearized_likes_2,\n",
    "                equal_var=False)\n",
    "\n",
    "ttest4 = stats.ttest_ind(df[df.exp_group == 1].ctr,\n",
    "                df[df.exp_group == 2].ctr,\n",
    "                equal_var=False)\n",
    "\n",
    "print(ttest3)\n",
    "print(ttest4)\n",
    "\n"
   ]
  },
  {
   "cell_type": "markdown",
   "id": "1212310d-5d4d-4550-8577-043611162083",
   "metadata": {},
   "source": [
    "Проанализируйте тест между группами 1 и 2 по метрике линеаризованных лайков. Видно ли отличие? Стало ли 𝑝−𝑣𝑎𝑙𝑢𝑒 меньше по сравнению с обычным CTR?\n",
    "\n",
    "Отличие есть в результатах теста. Как ранее было выяснено, у 2 группы ctr ненормально распределены данные, а линерализация как раз их приводит к нормальному распределению, поэтому p-value в этом случае отличиается от p-value при расчете 'сырых'  данных."
   ]
  },
  {
   "cell_type": "code",
   "execution_count": null,
   "id": "21b8c645-7dd8-40db-aafa-73746b18a93c",
   "metadata": {},
   "outputs": [],
   "source": []
  }
 ],
 "metadata": {
  "kernelspec": {
   "display_name": "Python 3 (ipykernel)",
   "language": "python",
   "name": "python3"
  },
  "language_info": {
   "codemirror_mode": {
    "name": "ipython",
    "version": 3
   },
   "file_extension": ".py",
   "mimetype": "text/x-python",
   "name": "python",
   "nbconvert_exporter": "python",
   "pygments_lexer": "ipython3",
   "version": "3.8.10"
  }
 },
 "nbformat": 4,
 "nbformat_minor": 5
}
